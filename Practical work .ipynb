{
 "cells": [
  {
   "cell_type": "code",
   "execution_count": 3,
   "id": "9e997213",
   "metadata": {},
   "outputs": [
    {
     "name": "stdout",
     "output_type": "stream",
     "text": [
      "   room1  room2  room3\n",
      "0    122    100    122\n",
      "1    100    400    100\n",
      "2    200    200    200\n"
     ]
    }
   ],
   "source": [
    "import pandas as pd\n",
    "d={'room1':[122, 100, 200,],'room2':[100, 400, 200,],'room3':[122, 100, 200]}\n",
    "df = pd.DataFrame (data=d)\n",
    "print (df)\n"
   ]
  },
  {
   "cell_type": "code",
   "execution_count": 4,
   "id": "4d2de7ff",
   "metadata": {},
   "outputs": [
    {
     "name": "stdout",
     "output_type": "stream",
     "text": [
      "400\n"
     ]
    }
   ],
   "source": [
    "Average_pulse_max=max(100, 400, 300)\n",
    "print(Average_pulse_max)"
   ]
  },
  {
   "cell_type": "code",
   "execution_count": 5,
   "id": "d592afd5",
   "metadata": {},
   "outputs": [
    {
     "name": "stdout",
     "output_type": "stream",
     "text": [
      "100\n"
     ]
    }
   ],
   "source": [
    "Average_pulse_min=min(100, 400, 300)\n",
    "print(Average_pulse_min)"
   ]
  },
  {
   "cell_type": "code",
   "execution_count": 8,
   "id": "974605ca",
   "metadata": {},
   "outputs": [
    {
     "name": "stdout",
     "output_type": "stream",
     "text": [
      "[1 2 3 4 5]\n"
     ]
    }
   ],
   "source": [
    "import numpy as np\n",
    "arr = np.array ((1, 2, 3, 4, 5))\n",
    "print (arr)"
   ]
  },
  {
   "cell_type": "code",
   "execution_count": 9,
   "id": "f07fa9f3",
   "metadata": {},
   "outputs": [
    {
     "name": "stdout",
     "output_type": "stream",
     "text": [
      "[12 23 34 89]\n"
     ]
    }
   ],
   "source": [
    "import numpy as np\n",
    "arr = np.array((12, 23, 34, 89))\n",
    "print (arr)"
   ]
  },
  {
   "cell_type": "code",
   "execution_count": 21,
   "id": "354702ec",
   "metadata": {},
   "outputs": [
    {
     "name": "stdout",
     "output_type": "stream",
     "text": [
      "int32\n"
     ]
    }
   ],
   "source": [
    "import numpy as np\n",
    "arr = np.array((1,2,3,4,5))\n",
    "print (arr.dtype)"
   ]
  },
  {
   "cell_type": "code",
   "execution_count": null,
   "id": "9cc3ad4f",
   "metadata": {},
   "outputs": [],
   "source": [
    "import numpy as np\n",
    "arr = np.array((400, 600,))\n",
    "print (type[arr])"
   ]
  },
  {
   "cell_type": "code",
   "execution_count": null,
   "id": "12b0936d",
   "metadata": {},
   "outputs": [],
   "source": []
  }
 ],
 "metadata": {
  "kernelspec": {
   "display_name": "Python 3 (ipykernel)",
   "language": "python",
   "name": "python3"
  },
  "language_info": {
   "codemirror_mode": {
    "name": "ipython",
    "version": 3
   },
   "file_extension": ".py",
   "mimetype": "text/x-python",
   "name": "python",
   "nbconvert_exporter": "python",
   "pygments_lexer": "ipython3",
   "version": "3.11.4"
  }
 },
 "nbformat": 4,
 "nbformat_minor": 5
}
